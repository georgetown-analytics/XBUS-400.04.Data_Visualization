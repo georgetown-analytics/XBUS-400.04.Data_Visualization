{
 "cells": [
  {
   "cell_type": "code",
   "execution_count": 1,
   "metadata": {},
   "outputs": [],
   "source": [
    "%matplotlib inline"
   ]
  },
  {
   "cell_type": "code",
   "execution_count": 2,
   "metadata": {},
   "outputs": [],
   "source": [
    "import numpy as np\n",
    "import pandas as pd\n",
    "\n",
    "import matplotlib.pyplot as plt\n",
    "import seaborn as sns"
   ]
  },
  {
   "cell_type": "markdown",
   "metadata": {},
   "source": [
    "# In-Class Lab 1 &mdash; Visualization with Matplotlib & Pandas\n",
    "\n",
    "Now it is your turn to try creating some of the new chart types you learned in class! To practice, you are going to be using the Palmer Penguins dataset that was collected and made available by Dr. Kristen Gorman and the Palmer Station, Antarctica LTER, a member of the Long Term Ecological Research Network. It contains data for 344 penguins, including three different types of species from 3 islands in the Palmer Archipelago, Antarctica. The Palmer Archipelago, also known as Antarctic Archipelago, is a group of islands off the northwestern coast of the Antarctic Peninsula.\n",
    "\n",
    "<img src=\"../images/lter_penguins.png\" alt=\"Palmer Penguins\" style=\"width:442px;\"/>\n",
    "Artwork Credit: @allison_horst https://github.com/allisonhorst/palmerpenguins\n",
    "\n",
    "The dataset contains the penguin bill dimensions recorded as `\"bill_length_mm\"` and `\"bill_depth_mm\"`. The bill, also known as the culmen, is the dorsal ridge atop the bill, as you can see here.\n",
    "\n",
    "<img src=\"../images/culmen_depth.png\" alt=\"Penguin Flippers\" style=\"width:342px;\"/>\n",
    "Artwork Credit: @allison_horst https://github.com/allisonhorst/palmerpenguins\n",
    "\n",
    "Here is some additional information about the fields in this dataset.\n",
    "\n",
    "| Column | Type | Description |\n",
    "| :----- | :--: | :---------- |\n",
    "| `species` | categorical | The penguin's species type (Adélie, Chinstrap, or Gentoo). |\n",
    "| `island` | categorical | The island in Palmer Archipelago, Antarctica (Biscoe, Dream, or Torgersen). ||\n",
    "| `bill_length_mm` | float | The length of the penguin's bill measured in millimeters. |\n",
    "| `bill_depth_mm` | float | The bill depth measured in millimeters. |\n",
    "| `flipper_length_mm` | float | Penguin wings are called flippers. They are flat, thin, and broad with a long, tapered shape and a blunt, rounded tip. The length of the flipper is measured in millimeters. |\n",
    "| `body_mass_g` | integer | The penguin's body mass measured in grams. | \n",
    "| `sex` | categorical | The penguin's gender (male or female) |\n",
    "\n",
    "To begin, start by importing the Palmer penguins dataset into a pandas DataFrame. Fortunately, this dataset was recently added as one of the seaborn library's built-in datasets.\n",
    "\n",
    "Like every dataset, the Palmer penguins data could use a little cleaning! However, since the goal of this lab is to give you a chance to practice creating the new chart types from this morning's lecture, I've gone ahead and removed any rows with missing data and converted the categorical columns to the appropriate data type. "
   ]
  },
  {
   "cell_type": "code",
   "execution_count": 3,
   "metadata": {},
   "outputs": [
    {
     "data": {
      "text/html": [
       "<div>\n",
       "<style scoped>\n",
       "    .dataframe tbody tr th:only-of-type {\n",
       "        vertical-align: middle;\n",
       "    }\n",
       "\n",
       "    .dataframe tbody tr th {\n",
       "        vertical-align: top;\n",
       "    }\n",
       "\n",
       "    .dataframe thead th {\n",
       "        text-align: right;\n",
       "    }\n",
       "</style>\n",
       "<table border=\"1\" class=\"dataframe\">\n",
       "  <thead>\n",
       "    <tr style=\"text-align: right;\">\n",
       "      <th></th>\n",
       "      <th>species</th>\n",
       "      <th>island</th>\n",
       "      <th>bill_length_mm</th>\n",
       "      <th>bill_depth_mm</th>\n",
       "      <th>flipper_length_mm</th>\n",
       "      <th>body_mass_g</th>\n",
       "      <th>sex</th>\n",
       "    </tr>\n",
       "  </thead>\n",
       "  <tbody>\n",
       "    <tr>\n",
       "      <th>0</th>\n",
       "      <td>Adelie</td>\n",
       "      <td>Torgersen</td>\n",
       "      <td>39.1</td>\n",
       "      <td>18.7</td>\n",
       "      <td>181.0</td>\n",
       "      <td>3750.0</td>\n",
       "      <td>Male</td>\n",
       "    </tr>\n",
       "    <tr>\n",
       "      <th>1</th>\n",
       "      <td>Adelie</td>\n",
       "      <td>Torgersen</td>\n",
       "      <td>39.5</td>\n",
       "      <td>17.4</td>\n",
       "      <td>186.0</td>\n",
       "      <td>3800.0</td>\n",
       "      <td>Female</td>\n",
       "    </tr>\n",
       "    <tr>\n",
       "      <th>2</th>\n",
       "      <td>Adelie</td>\n",
       "      <td>Torgersen</td>\n",
       "      <td>40.3</td>\n",
       "      <td>18.0</td>\n",
       "      <td>195.0</td>\n",
       "      <td>3250.0</td>\n",
       "      <td>Female</td>\n",
       "    </tr>\n",
       "    <tr>\n",
       "      <th>3</th>\n",
       "      <td>Adelie</td>\n",
       "      <td>Torgersen</td>\n",
       "      <td>36.7</td>\n",
       "      <td>19.3</td>\n",
       "      <td>193.0</td>\n",
       "      <td>3450.0</td>\n",
       "      <td>Female</td>\n",
       "    </tr>\n",
       "    <tr>\n",
       "      <th>4</th>\n",
       "      <td>Adelie</td>\n",
       "      <td>Torgersen</td>\n",
       "      <td>39.3</td>\n",
       "      <td>20.6</td>\n",
       "      <td>190.0</td>\n",
       "      <td>3650.0</td>\n",
       "      <td>Male</td>\n",
       "    </tr>\n",
       "  </tbody>\n",
       "</table>\n",
       "</div>"
      ],
      "text/plain": [
       "  species     island  bill_length_mm  bill_depth_mm  flipper_length_mm  \\\n",
       "0  Adelie  Torgersen            39.1           18.7              181.0   \n",
       "1  Adelie  Torgersen            39.5           17.4              186.0   \n",
       "2  Adelie  Torgersen            40.3           18.0              195.0   \n",
       "3  Adelie  Torgersen            36.7           19.3              193.0   \n",
       "4  Adelie  Torgersen            39.3           20.6              190.0   \n",
       "\n",
       "   body_mass_g     sex  \n",
       "0       3750.0    Male  \n",
       "1       3800.0  Female  \n",
       "2       3250.0  Female  \n",
       "3       3450.0  Female  \n",
       "4       3650.0    Male  "
      ]
     },
     "execution_count": 3,
     "metadata": {},
     "output_type": "execute_result"
    }
   ],
   "source": [
    "# Import the Palmer penguins dataset into a pandas DataFrame\n",
    "df = sns.load_dataset('penguins')\n",
    "\n",
    "# Convert to category data type\n",
    "df[['species', 'island', 'sex']] = df[['species', 'island', 'sex']].astype('category')\n",
    "\n",
    "# Drop rows with missing values\n",
    "df = df.dropna().reset_index(drop=True)\n",
    "\n",
    "# Look at the first 5 rows of the data\n",
    "df.head()"
   ]
  },
  {
   "cell_type": "markdown",
   "metadata": {},
   "source": [
    "# Style\n",
    "\n",
    "Before you get started creating your charts, begin by selecting one of the pre-defined styles provided by matplotlib.\n",
    "\n",
    "Matplotlib [style sheets](https://matplotlib.org/tutorials/introductory/customizing.html#using-style-sheets)"
   ]
  },
  {
   "cell_type": "code",
   "execution_count": 4,
   "metadata": {},
   "outputs": [],
   "source": [
    "# Select a particular matplotlib style\n"
   ]
  },
  {
   "cell_type": "markdown",
   "metadata": {},
   "source": [
    "# Bar Chart\n",
    "\n",
    "During today's class, we looked at how to use pandas `value_counts()` and `plot()` methods to create a bar chart, which you will use to visualize the distribution of penguins by `\"species\"`. A couple of points to keep in mind:\n",
    "- Remember to specify that you want pandas to create a bar chart by passing `\"bar\"` to the `kind` parameter\n",
    "- Pass a tuple to the `figsize` parameter to create a 9 x 6 inch Figure\n",
    "- Set the `plot()` method's `rot` parameter to rotate the xticks by `0`\n",
    "- Don't forget to give your plot a title and label the x- and y-axis! You should also adjust their size based on the size of your plot. (During class, you learned a couple of different ways to do this; however, here you should use the methods from matplotlib's pyplot API.)\n",
    "\n",
    "Pandas `Series.bar` [documentation](https://pandas.pydata.org/pandas-docs/stable/reference/api/pandas.Series.plot.bar.html)\n",
    "Pandas `Series.plot` [documentation](https://pandas.pydata.org/pandas-docs/stable/reference/api/pandas.Series.plot.html)  \n",
    "Pandas `Series.value_counts` [documentation](https://pandas.pydata.org/pandas-docs/stable/reference/api/pandas.Series.value_counts.html)  \n",
    "Matplotlib `pyplot.title` [documentation](https://matplotlib.org/api/_as_gen/matplotlib.pyplot.title.html)  \n",
    "Matplotlib `pyplot.xlabel` [documentation](https://matplotlib.org/api/_as_gen/matplotlib.pyplot.xlabel.html)  \n",
    "Matplotlib `pyplot.ylabel` [documentation](https://matplotlib.org/api/_as_gen/matplotlib.pyplot.ylabel.html)"
   ]
  },
  {
   "cell_type": "code",
   "execution_count": 5,
   "metadata": {},
   "outputs": [],
   "source": [
    "# Create a bar chart using pandas value_counts() and plot() methods\n",
    "\n",
    "\n",
    "# Add a title\n",
    "\n",
    "\n",
    "# Label the x- and y-axis\n",
    "\n"
   ]
  },
  {
   "cell_type": "markdown",
   "metadata": {},
   "source": [
    "Great job! Now by default, pandas `value_counts()` method returns a Series containing counts of the unique values. However, sometimes getting a percentage is a better criterion than the count. Therefore, this time to answer the question, you should set `normalize=True` to find the relative frequencies of the unique values.\n",
    "\n",
    "During class, you also learned how to chain the pandas `plot()` and `bar()` methods together to visualize your data, which is the approach that you should do here. In addition, you pass the `bar()` method the following parameters:\n",
    "- Set the `color` parameter using a color from the [Tableau palette](https://matplotlib.org/gallery/color/named_colors.html)\n",
    "- Set the `edgecolor` to black using `'k'` or `'black'`\n",
    "- Set the `linewidth` parameter to `1.25`\n",
    "\n",
    "Futhermore, this time let's customize your plot by using matplotlib's object-oriented API. Remember that this can be done using pandas since the `plot()` method will return a matplotlib Axes object we can modify. You should use matplotlib's object-oriented methods to do the following:\n",
    "- Add a title and set the `size` parameter to an appropriate size\n",
    "- Label the x- and y-axis and set the `size` parameter to an appropriate size\n",
    "- Rotate the x-axis tickmarks to `0`\n",
    "\n",
    "Matplotlib Documentation\n",
    "- [Add a title](https://matplotlib.org/api/_as_gen/matplotlib.axes.Axes.set_title.html)\n",
    "- [Label the x-axis](https://matplotlib.org/api/_as_gen/matplotlib.axes.Axes.set_xlabel.html)\n",
    "- [Label the y-axis](https://matplotlib.org/api/_as_gen/matplotlib.axes.Axes.set_ylabel.html)\n",
    "- [Rotate the x-axis tickmarks](https://matplotlib.org/api/_as_gen/matplotlib.axis.Axis.set_tick_params.html)\n",
    "\n",
    "**Question:** Which island has the largest number of penguins?  \n",
    "**Answer:** "
   ]
  },
  {
   "cell_type": "code",
   "execution_count": 6,
   "metadata": {},
   "outputs": [],
   "source": [
    "# Create a bar chart using pandas and save in a variable named \"ax\"\n",
    "\n",
    "\n",
    "# Add a title\n",
    "\n",
    "\n",
    "# Label the x- and y-axis\n",
    "\n",
    "\n",
    "\n",
    "# Rotate the xticks\n"
   ]
  },
  {
   "cell_type": "markdown",
   "metadata": {},
   "source": [
    "# Stacked Bar Plot\n",
    "\n",
    "Stacked bar plots share a lot of the strengths and weaknesses of univariate bar charts. However, they tend to work best for nominal categorical or small ordinal categorical variables.\n",
    "\n",
    "To create a stacked bar chart, here you should use pandas `groupby()` method that we covered in today's class to create a stacked bar chart that shows the number of penguins on each `\"island\"`, split into males and females\n",
    "\n",
    "Pandas `DataFrame.groupby` [documentation](https://pandas.pydata.org/pandas-docs/stable/reference/api/pandas.DataFrame.groupby.html)  \n",
    "Pandas `GroupBy.size` [documentation](https://pandas.pydata.org/pandas-docs/stable/reference/api/pandas.core.groupby.GroupBy.size.html)  \n",
    "Pandas `Series.unstack` [documentation](https://pandas.pydata.org/pandas-docs/stable/reference/api/pandas.Series.unstack.html)"
   ]
  },
  {
   "cell_type": "code",
   "execution_count": 7,
   "metadata": {
    "scrolled": true
   },
   "outputs": [],
   "source": [
    "# Groupby the \"island\" and \"sex\" columns to create a stacked bar chart\n",
    "\n"
   ]
  },
  {
   "cell_type": "markdown",
   "metadata": {},
   "source": [
    "# Histogram\n",
    "\n",
    "Bar plots are helpful when we are working with categorical data, such as when we want to know more about the species and islands where the penguins live. However, when we want to know the distribution of a continuous numerical feature, such as the length and depth of the penguins' flippers, we need to use a histogram.\n",
    "\n",
    "Python offers several different options for plotting and customizing histograms, which you will get to practice now. First, begin by using matplotlib's `plt.hist()` function to visualize the distribution of the `\"flipper_length_mm\"` column.\n",
    "\n",
    "You should also customize your plot by setting the following parameters:\n",
    "- Increase the number of `bins` to 15\n",
    "- Use the `edgecolor` to outline the bars in black\n",
    "- Add grid lines to the y-axis of your plot using `plt.grid()`\n",
    "\n",
    "Matplotlib `pyplot.grid` [documentation](https://matplotlib.org/api/_as_gen/matplotlib.pyplot.grid.html)  \n",
    "Matplotlib `pyplot.hist()`[documentation](https://matplotlib.org/api/_as_gen/matplotlib.pyplot.hist.html)"
   ]
  },
  {
   "cell_type": "code",
   "execution_count": 8,
   "metadata": {},
   "outputs": [],
   "source": [
    "# Plot the distribution of the \"flipper_length_mm\" feature\n",
    "\n",
    "\n",
    "# Add a title\n",
    "\n",
    "\n",
    "# Add grid lines\n"
   ]
  },
  {
   "cell_type": "markdown",
   "metadata": {},
   "source": [
    "Now, let's recreate the previous histogram using matplotlib's object-oriented API. However, this time instead of using the `edgecolor` parameter to distinguish between the bars, you should try adjusting the `rwidth` parameter. In addition, this time you should customize your chart by setting the `color` parameter to one of the many colors available in matplotlib.\n",
    "\n",
    "Matplotlib `Axes.grid` [documentation](https://matplotlib.org/api/_as_gen/matplotlib.axes.Axes.grid.html)  \n",
    "Matplotlib `Axes.hist` [documentation](https://matplotlib.org/api/_as_gen/matplotlib.axes.Axes.hist.html)  \n",
    "Matplotlib [Color Demo](https://matplotlib.org/tutorials/colors/colors.html)"
   ]
  },
  {
   "cell_type": "code",
   "execution_count": 9,
   "metadata": {},
   "outputs": [],
   "source": [
    "# Instantiate a Figure and a single Axes\n",
    "\n",
    "\n",
    "# Plot the distribution of the \"flipper_length_mm\" feature\n",
    "\n",
    "\n",
    "# Add a title\n",
    "\n",
    "\n",
    "# Add grid lines\n"
   ]
  },
  {
   "cell_type": "markdown",
   "metadata": {},
   "source": [
    "Finally, use pandas `DataFrame.hist()` function to plot a histogram for each numerical feature in the dataset. In addition:\n",
    "\n",
    "- Pass the `figsize` parameter to `hist()`, creating a 6x6 inch Figure\n",
    "- Adjust the spacing between the bar using `rwidth`\n",
    "- Adjust the spacing between your subplots by adding `plt.tight_layout()`\n",
    "\n",
    "Matplotlib `pyplot.tight_layout` [documentation](https://matplotlib.org/api/_as_gen/matplotlib.pyplot.tight_layout.html)  \n",
    "Pandas `DataFrame.hist` [documentation](https://pandas.pydata.org/pandas-docs/stable/reference/api/pandas.DataFrame.hist.html)"
   ]
  },
  {
   "cell_type": "code",
   "execution_count": 10,
   "metadata": {
    "scrolled": false
   },
   "outputs": [],
   "source": [
    "# Plot a histogram for each numerical feature\n",
    "\n",
    "\n",
    "# Adjust the layout\n"
   ]
  },
  {
   "cell_type": "markdown",
   "metadata": {},
   "source": [
    "# Box Plots\n",
    "\n",
    "Next, you will try to use pandas to create a box plot for each numerical column in your dataset. In addition, you should adjust the size of the Figure by setting `figsize=(8,4)`.\n",
    "\n",
    "Pandas `DataFrame.plot.box` [documentation](https://pandas.pydata.org/docs/reference/api/pandas.DataFrame.plot.box.html#pandas.DataFrame.plot.box)  "
   ]
  },
  {
   "cell_type": "code",
   "execution_count": 11,
   "metadata": {
    "scrolled": true
   },
   "outputs": [],
   "source": [
    "# Create a box plot for each numerical feature\n"
   ]
  },
  {
   "cell_type": "markdown",
   "metadata": {},
   "source": [
    "Drats! That wasn't very helpful because of the large differences in the scale of the data. Instead, this time create a box plot just for the `\"flipper_length_mm\"` column. You should also orient the plot horizontally by setting the `vert` parameter.\n",
    "\n",
    "Pandas `Series.plot.box()` [documentation](https://pandas.pydata.org/docs/reference/api/pandas.Series.plot.box.html#pandas.Series.plot.box)  "
   ]
  },
  {
   "cell_type": "code",
   "execution_count": 12,
   "metadata": {
    "scrolled": false
   },
   "outputs": [],
   "source": [
    "# Create a box plot for a single numerical feature\n"
   ]
  },
  {
   "cell_type": "markdown",
   "metadata": {},
   "source": [
    "# Scatter Plot\n",
    "\n",
    "Scatter plots can be a useful way of examining the relationship between two one-dimensional data series. Here, you will start by creating a scatter plot to visualize the relationship between the `\"bill_length_mm\"` and `\"bill_depth_mm\"` columns.  You should use matplotlib's `scatter()` function to plot the `\"bill_length_mm\"` column along the x-axis and the `\"bill_depth_mm\"` column along the y-axis.\n",
    "\n",
    "Matplotlib `Axes.scatter` [documentation](https://matplotlib.org/api/_as_gen/matplotlib.axes.Axes.scatter.html)"
   ]
  },
  {
   "cell_type": "code",
   "execution_count": 13,
   "metadata": {
    "scrolled": true
   },
   "outputs": [],
   "source": [
    "# Instantiate a Figure and a single Axes\n",
    "\n",
    "# Create a scatter plot\n"
   ]
  },
  {
   "cell_type": "markdown",
   "metadata": {},
   "source": [
    "Now, let's create a scatter plot using using pandas `plot()` method by passing the column names to `x` and `y` and setting the `kind` parameter to `\"scatter\"` in order to see if there is a relationship between the `\"flipper_length_mm\"` and `\"body_mass_g\"` features.\n",
    "\n",
    "Pandas `DataFrame.plot.scatter` [documentation](https://pandas.pydata.org/pandas-docs/stable/reference/api/pandas.DataFrame.plot.scatter.html)"
   ]
  },
  {
   "cell_type": "code",
   "execution_count": 14,
   "metadata": {
    "scrolled": true
   },
   "outputs": [],
   "source": [
    "# Create a scatter plot\n"
   ]
  }
 ],
 "metadata": {
  "kernelspec": {
   "display_name": "Python 3",
   "language": "python",
   "name": "python3"
  },
  "language_info": {
   "codemirror_mode": {
    "name": "ipython",
    "version": 3
   },
   "file_extension": ".py",
   "mimetype": "text/x-python",
   "name": "python",
   "nbconvert_exporter": "python",
   "pygments_lexer": "ipython3",
   "version": "3.8.0"
  },
  "toc": {
   "base_numbering": 1,
   "nav_menu": {},
   "number_sections": true,
   "sideBar": true,
   "skip_h1_title": false,
   "title_cell": "Table of Contents",
   "title_sidebar": "Contents",
   "toc_cell": false,
   "toc_position": {
    "height": "calc(100% - 180px)",
    "left": "10px",
    "top": "150px",
    "width": "193px"
   },
   "toc_section_display": true,
   "toc_window_display": true
  }
 },
 "nbformat": 4,
 "nbformat_minor": 4
}
