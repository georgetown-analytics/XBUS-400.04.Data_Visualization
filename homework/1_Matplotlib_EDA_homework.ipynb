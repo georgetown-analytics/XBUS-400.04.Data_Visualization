{
 "cells": [
  {
   "cell_type": "code",
   "execution_count": null,
   "metadata": {},
   "outputs": [],
   "source": [
    "%matplotlib inline"
   ]
  },
  {
   "cell_type": "code",
   "execution_count": null,
   "metadata": {},
   "outputs": [],
   "source": [
    "import numpy as np\n",
    "import pandas as pd\n",
    "import matplotlib.pyplot as plt\n",
    "\n",
    "pd.set_option('display.max.columns', None)"
   ]
  },
  {
   "cell_type": "markdown",
   "metadata": {},
   "source": [
    "# Homework 1 &mdash; Exploratory Data Analysis with Python\n",
    "\n",
    "As you learned during the first week of the course, data visualization is a critical component of exploratory data analysis (EDA) that can help you quickly familiarize yourself with the data, as well as identify any outliers or missing values in your dataset. In this homework assignment, you will get a chance to put your new Python and matplotlib skills to use by creating some of the new chart types you learned during class to explore the Global Superstore dataset. \n",
    "\n",
    "Global Superstore is a fictional international retail chain that sells office supplies to customers across the globe. The original dataset was stored in Excel and contained three sheets&mdash;`Orders`, `People`, and `Returns`. However, for this assignment you will only need to work with the sales data from the `Orders` sheet, where each row represents a single transaction. So that you can use pandas `read_csv()` function, the data from the `Orders` sheet has been saved as a separate CSV file (`\"global_superstore_orders.csv\"`) and is saved on Canvas in the `Datasets/` folder.\n",
    "\n",
    "To begin, start by importing the CSV file into a pandas DataFrame. Additional code has already been added for you that takes advantage of the method's optional `dtype` parameter to change the columns in the `col` list to a `\"category\"` dtype.\n",
    "\n",
    "Please note, that depending on where you downloaded the CSV file to your local computer, you may need to modify the filepath that is passed to the `pd.read_csv()` method. For example, here the filepath assumes that you have saved the `\"global_superstore_orders.csv\"` file one level up in a directory named `datasets`. If you have stored the file in the same folder as your Jupyter notebook, then you would only need to pass the method the name of the file.\n",
    "\n",
    "Pandas `pandas.read_csv` [documentation](https://pandas.pydata.org/pandas-docs/stable/reference/api/pandas.read_csv.html)"
   ]
  },
  {
   "cell_type": "code",
   "execution_count": null,
   "metadata": {},
   "outputs": [],
   "source": [
    "# Import the Global Superstore dataset\n",
    "df = pd.read_csv('../datasets/global_superstore_orders.csv')\n",
    "\n",
    "# Create a list of the categorical columns\n",
    "cols = ['Category', 'City', 'Country', 'Market', 'Order Priority',\n",
    "        'Region', 'Segment', 'Ship Mode', 'State', 'Sub-Category']\n",
    "\n",
    "# Convert columns to category data type\n",
    "df[cols] = df[cols].astype('category')\n",
    "\n",
    "# Print the first 5 rows\n",
    "df.head()"
   ]
  },
  {
   "cell_type": "markdown",
   "metadata": {},
   "source": [
    "Here, display all columns and their data types."
   ]
  },
  {
   "cell_type": "code",
   "execution_count": null,
   "metadata": {},
   "outputs": [],
   "source": [
    "df.info()"
   ]
  },
  {
   "cell_type": "markdown",
   "metadata": {},
   "source": [
    "Next, call the DataFrame `describe()` method to see some statistical information about the Global Superstore dataset.\n",
    "\n",
    "Pandas `describe` [documentation](https://pandas.pydata.org/pandas-docs/stable/reference/api/pandas.DataFrame.describe.html)"
   ]
  },
  {
   "cell_type": "code",
   "execution_count": null,
   "metadata": {},
   "outputs": [],
   "source": [
    "# Retrieve summary statistics \n"
   ]
  },
  {
   "cell_type": "markdown",
   "metadata": {},
   "source": [
    "# EDA Questions\n",
    "\n",
    "Next, imagine that you've just been hired as a Data Analyst in Global Superstore's fast-paced Data Analytics division. You want to quickly get up to speed and learn more about your new employer. And now that you've had a chance to quickly look at your data, what questions do you have?\n",
    "\n",
    "*Write in 2-3 questions that you are interested in learning about the data*  \n",
    "1.  \n",
    "2.  \n",
    "3.  \n",
    "\n",
    "Now it's time to try out your new EDA skills! Working in this Jupyter notebook, you should create a minimum of 5 different types of visualizations to explore the data and to see whether it can be used to answer your questions. Each chart must also include a title, and you should be sure to label the x- and y-axis.\n",
    "\n",
    "If you find that you aren't able to answer all of the questions you originally proposed, don't worry! As Data Analysts, we often don't know what type of insights or analysis is possible until we've had the chance to use some of the EDA techniques you've learned in class. What is important here to complete this assignment is to show your work in the Jupyter notebook and to answer the questions explaining what you discovered while exploring this dataset."
   ]
  },
  {
   "cell_type": "code",
   "execution_count": null,
   "metadata": {},
   "outputs": [],
   "source": []
  },
  {
   "cell_type": "code",
   "execution_count": null,
   "metadata": {},
   "outputs": [],
   "source": []
  },
  {
   "cell_type": "code",
   "execution_count": null,
   "metadata": {},
   "outputs": [],
   "source": []
  },
  {
   "cell_type": "code",
   "execution_count": null,
   "metadata": {},
   "outputs": [],
   "source": []
  },
  {
   "cell_type": "code",
   "execution_count": null,
   "metadata": {},
   "outputs": [],
   "source": []
  },
  {
   "cell_type": "markdown",
   "metadata": {},
   "source": [
    "# Conclusions\n",
    "\n",
    "What did you find out? Were you able to answer all of your original questions or did you have new questions come up as you explored the data? In 2-3 short paragraphs, please give a brief overview of what you discovered about your new employer. Was there anything that surprised you or did you find certain types of charts more helpful when you first began? \n",
    "\n",
    "**Answer:**  \n"
   ]
  },
  {
   "cell_type": "markdown",
   "metadata": {},
   "source": [
    "# Submission\n",
    "\n",
    "Before submitting this assignment, it is important to complete these final two steps:\n",
    "- Rename your Jupyter notebook by clicking on \"`1_Matplotlib_EDA_homework`\" at the top of the page and adding your last name. For example: `1_Matplotlib_EDA_homework_McIntyre`\n",
    "- Restart and run your Jupyter notebook by clicking `Kernel` and then `Restart & Run All`\n",
    "- Save your Jupyter notebook by clicking the save icon on the toolbar\n",
    "\n",
    "Finally, go to the homework assignment page on Canvas and click the `Submit Assignment` button on the upper right-hand corner of the page. Next, scroll towards the bottom of the page and select the `File Upload` box to choose and attach a copy of your Jupyter notebook (`.ipynb`).\n",
    "\n",
    "Please remember that the assignment is due by the end of the following day at midnight. If you have any questions or find yourself struggling, please don't hesitate to reach out!"
   ]
  },
  {
   "cell_type": "code",
   "execution_count": null,
   "metadata": {},
   "outputs": [],
   "source": []
  }
 ],
 "metadata": {
  "kernelspec": {
   "display_name": "Python 3 (ipykernel)",
   "language": "python",
   "name": "python3"
  },
  "language_info": {
   "codemirror_mode": {
    "name": "ipython",
    "version": 3
   },
   "file_extension": ".py",
   "mimetype": "text/x-python",
   "name": "python",
   "nbconvert_exporter": "python",
   "pygments_lexer": "ipython3",
   "version": "3.8.0"
  },
  "toc": {
   "base_numbering": 1,
   "nav_menu": {},
   "number_sections": true,
   "sideBar": true,
   "skip_h1_title": false,
   "title_cell": "Table of Contents",
   "title_sidebar": "Contents",
   "toc_cell": false,
   "toc_position": {
    "height": "calc(100% - 180px)",
    "left": "10px",
    "top": "150px",
    "width": "165px"
   },
   "toc_section_display": true,
   "toc_window_display": true
  }
 },
 "nbformat": 4,
 "nbformat_minor": 4
}
